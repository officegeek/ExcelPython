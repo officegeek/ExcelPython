{
  "nbformat": 4,
  "nbformat_minor": 0,
  "metadata": {
    "colab": {
      "name": "ExcelPython.ipynb",
      "provenance": [],
      "authorship_tag": "ABX9TyP9izqpTg3YGY4PNT5BQS/R",
      "include_colab_link": true
    },
    "kernelspec": {
      "name": "python3",
      "display_name": "Python 3"
    }
  },
  "cells": [
    {
      "cell_type": "markdown",
      "metadata": {
        "id": "view-in-github",
        "colab_type": "text"
      },
      "source": [
        "<a href=\"https://colab.research.google.com/github/officegeek/ExcelPython/blob/main/ExcelPython.ipynb\" target=\"_parent\"><img src=\"https://colab.research.google.com/assets/colab-badge.svg\" alt=\"Open In Colab\"/></a>"
      ]
    },
    {
      "cell_type": "code",
      "metadata": {
        "id": "jjvK97VSw2Ds",
        "outputId": "531d0b03-2273-4271-c60c-5ddc8109f26f",
        "colab": {
          "base_uri": "https://localhost:8080/"
        }
      },
      "source": [
        "# OpenPyXL\n",
        "#\n",
        "# import OpenPyXl\n",
        "from openpyxl import Workbook\n",
        "from openpyxl.utils import get_column_letter # Import one function\n",
        "\n",
        "# Create Workbook\n",
        "wb = Workbook()\n",
        "destination_filename = 'MyNewExcelFile.xlsx'\n",
        "\n",
        "ws = wb.active\n",
        "ws.title = \"My New Workbook\"\n",
        "\n",
        "# Values\n",
        "for row in range(1, 10):\n",
        "  ws.append(range(100))\n",
        "\n",
        "wssheet = wb.create_sheet(title=\"Number Two\")\n",
        "\n",
        "wssheet['A5'] = 'A value'\n",
        "\n",
        "wssheet['A5'].value\n",
        "wssheet['A5']\n",
        "\n",
        "ws['C2'].value\n",
        "\n",
        "# New\n",
        "another_worksheet = wb.create_sheet(title=\"Third Sheet\")\n",
        "\n",
        "for row in range(1, 5):\n",
        "  for col in range(2, 10): \n",
        "    _ = another_worksheet.cell(column=col, \n",
        "                               row=row, \n",
        "                               value=\"{0}\".format(get_column_letter(col)))\n",
        "\n",
        "print(another_worksheet['B2'].value)\n",
        "\n",
        "\n",
        "\n",
        "\n",
        "# Save a "
      ],
      "execution_count": 14,
      "outputs": [
        {
          "output_type": "stream",
          "text": [
            "B\n"
          ],
          "name": "stdout"
        }
      ]
    },
    {
      "cell_type": "code",
      "metadata": {
        "id": "is0jVPPHzqRp"
      },
      "source": [
        ""
      ],
      "execution_count": null,
      "outputs": []
    }
  ]
}